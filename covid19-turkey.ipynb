{
 "cells": [
  {
   "cell_type": "code",
   "execution_count": 1,
   "metadata": {},
   "outputs": [],
   "source": [
    "import numpy as np\n",
    "import pandas as pd\n",
    "import matplotlib.pyplot as plt\n",
    "from seaborn import heatmap\n",
    "from sklearn.model_selection import train_test_split\n",
    "from sklearn.linear_model import LinearRegression\n",
    "from sklearn.metrics import mean_squared_error, r2_score\n",
    "from sklearn.preprocessing import MinMaxScaler\n",
    "from sklearn.neural_network import MLPRegressor"
   ]
  },
  {
   "cell_type": "code",
   "execution_count": 2,
   "metadata": {},
   "outputs": [],
   "source": [
    "plt.style.use('ggplot')"
   ]
  },
  {
   "cell_type": "code",
   "execution_count": 3,
   "metadata": {},
   "outputs": [
    {
     "data": {
      "text/html": [
       "<div>\n",
       "<style scoped>\n",
       "    .dataframe tbody tr th:only-of-type {\n",
       "        vertical-align: middle;\n",
       "    }\n",
       "\n",
       "    .dataframe tbody tr th {\n",
       "        vertical-align: top;\n",
       "    }\n",
       "\n",
       "    .dataframe thead th {\n",
       "        text-align: right;\n",
       "    }\n",
       "</style>\n",
       "<table border=\"1\" class=\"dataframe\">\n",
       "  <thead>\n",
       "    <tr style=\"text-align: right;\">\n",
       "      <th></th>\n",
       "      <th>num_tests</th>\n",
       "      <th>num_case</th>\n",
       "      <th>total_intensive_care</th>\n",
       "      <th>total_intubated</th>\n",
       "      <th>num_recovered</th>\n",
       "      <th>num_deaths</th>\n",
       "    </tr>\n",
       "    <tr>\n",
       "      <th>date</th>\n",
       "      <th></th>\n",
       "      <th></th>\n",
       "      <th></th>\n",
       "      <th></th>\n",
       "      <th></th>\n",
       "      <th></th>\n",
       "    </tr>\n",
       "  </thead>\n",
       "  <tbody>\n",
       "    <tr>\n",
       "      <th>11.03.2020</th>\n",
       "      <td>0</td>\n",
       "      <td>1</td>\n",
       "      <td>0</td>\n",
       "      <td>0</td>\n",
       "      <td>0</td>\n",
       "      <td>0</td>\n",
       "    </tr>\n",
       "    <tr>\n",
       "      <th>12.03.2020</th>\n",
       "      <td>0</td>\n",
       "      <td>0</td>\n",
       "      <td>0</td>\n",
       "      <td>0</td>\n",
       "      <td>0</td>\n",
       "      <td>0</td>\n",
       "    </tr>\n",
       "    <tr>\n",
       "      <th>13.03.2020</th>\n",
       "      <td>0</td>\n",
       "      <td>4</td>\n",
       "      <td>0</td>\n",
       "      <td>0</td>\n",
       "      <td>0</td>\n",
       "      <td>0</td>\n",
       "    </tr>\n",
       "    <tr>\n",
       "      <th>14.03.2020</th>\n",
       "      <td>0</td>\n",
       "      <td>0</td>\n",
       "      <td>0</td>\n",
       "      <td>0</td>\n",
       "      <td>0</td>\n",
       "      <td>0</td>\n",
       "    </tr>\n",
       "    <tr>\n",
       "      <th>15.03.2020</th>\n",
       "      <td>2800</td>\n",
       "      <td>1</td>\n",
       "      <td>0</td>\n",
       "      <td>0</td>\n",
       "      <td>0</td>\n",
       "      <td>0</td>\n",
       "    </tr>\n",
       "  </tbody>\n",
       "</table>\n",
       "</div>"
      ],
      "text/plain": [
       "            num_tests  num_case  total_intensive_care  total_intubated  \\\n",
       "date                                                                     \n",
       "11.03.2020          0         1                     0                0   \n",
       "12.03.2020          0         0                     0                0   \n",
       "13.03.2020          0         4                     0                0   \n",
       "14.03.2020          0         0                     0                0   \n",
       "15.03.2020       2800         1                     0                0   \n",
       "\n",
       "            num_recovered  num_deaths  \n",
       "date                                   \n",
       "11.03.2020              0           0  \n",
       "12.03.2020              0           0  \n",
       "13.03.2020              0           0  \n",
       "14.03.2020              0           0  \n",
       "15.03.2020              0           0  "
      ]
     },
     "execution_count": 3,
     "metadata": {},
     "output_type": "execute_result"
    }
   ],
   "source": [
    "csv_file_url= 'https://drive.google.com/uc?export=view&id=11SJRu_ghaKQCmKTNP6avuSgOr_RqB7tx'\n",
    "dataset = pd.read_csv(csv_file_url, sep=';', index_col=0)\n",
    "dataset.head()"
   ]
  },
  {
   "cell_type": "code",
   "execution_count": 4,
   "metadata": {},
   "outputs": [],
   "source": [
    "dataset.index = pd.to_datetime(dataset.index, format='%d.%m.%Y')"
   ]
  },
  {
   "cell_type": "code",
   "execution_count": 5,
   "metadata": {},
   "outputs": [
    {
     "data": {
      "text/plain": [
       "pandas._libs.tslibs.timestamps.Timestamp"
      ]
     },
     "execution_count": 5,
     "metadata": {},
     "output_type": "execute_result"
    }
   ],
   "source": [
    "type(dataset.index[0])"
   ]
  },
  {
   "cell_type": "code",
   "execution_count": 6,
   "metadata": {
    "scrolled": true
   },
   "outputs": [
    {
     "data": {
      "text/plain": [
       "11"
      ]
     },
     "execution_count": 6,
     "metadata": {},
     "output_type": "execute_result"
    }
   ],
   "source": [
    "dataset.index[0].day"
   ]
  },
  {
   "cell_type": "code",
   "execution_count": 7,
   "metadata": {},
   "outputs": [
    {
     "data": {
      "text/plain": [
       "3"
      ]
     },
     "execution_count": 7,
     "metadata": {},
     "output_type": "execute_result"
    }
   ],
   "source": [
    "dataset.index[0].month"
   ]
  },
  {
   "cell_type": "code",
   "execution_count": 8,
   "metadata": {},
   "outputs": [
    {
     "data": {
      "text/plain": [
       "2020"
      ]
     },
     "execution_count": 8,
     "metadata": {},
     "output_type": "execute_result"
    }
   ],
   "source": [
    "dataset.index[0].year"
   ]
  },
  {
   "cell_type": "code",
   "execution_count": 9,
   "metadata": {
    "scrolled": false
   },
   "outputs": [
    {
     "data": {
      "text/html": [
       "<div>\n",
       "<style scoped>\n",
       "    .dataframe tbody tr th:only-of-type {\n",
       "        vertical-align: middle;\n",
       "    }\n",
       "\n",
       "    .dataframe tbody tr th {\n",
       "        vertical-align: top;\n",
       "    }\n",
       "\n",
       "    .dataframe thead th {\n",
       "        text-align: right;\n",
       "    }\n",
       "</style>\n",
       "<table border=\"1\" class=\"dataframe\">\n",
       "  <thead>\n",
       "    <tr style=\"text-align: right;\">\n",
       "      <th></th>\n",
       "      <th>num_tests</th>\n",
       "      <th>num_case</th>\n",
       "      <th>total_intensive_care</th>\n",
       "      <th>total_intubated</th>\n",
       "      <th>num_recovered</th>\n",
       "      <th>num_deaths</th>\n",
       "    </tr>\n",
       "    <tr>\n",
       "      <th>date</th>\n",
       "      <th></th>\n",
       "      <th></th>\n",
       "      <th></th>\n",
       "      <th></th>\n",
       "      <th></th>\n",
       "      <th></th>\n",
       "    </tr>\n",
       "  </thead>\n",
       "  <tbody>\n",
       "    <tr>\n",
       "      <th>2020-03-11</th>\n",
       "      <td>0</td>\n",
       "      <td>1</td>\n",
       "      <td>0</td>\n",
       "      <td>0</td>\n",
       "      <td>0</td>\n",
       "      <td>0</td>\n",
       "    </tr>\n",
       "    <tr>\n",
       "      <th>2020-03-12</th>\n",
       "      <td>0</td>\n",
       "      <td>0</td>\n",
       "      <td>0</td>\n",
       "      <td>0</td>\n",
       "      <td>0</td>\n",
       "      <td>0</td>\n",
       "    </tr>\n",
       "    <tr>\n",
       "      <th>2020-03-13</th>\n",
       "      <td>0</td>\n",
       "      <td>4</td>\n",
       "      <td>0</td>\n",
       "      <td>0</td>\n",
       "      <td>0</td>\n",
       "      <td>0</td>\n",
       "    </tr>\n",
       "    <tr>\n",
       "      <th>2020-03-14</th>\n",
       "      <td>0</td>\n",
       "      <td>0</td>\n",
       "      <td>0</td>\n",
       "      <td>0</td>\n",
       "      <td>0</td>\n",
       "      <td>0</td>\n",
       "    </tr>\n",
       "    <tr>\n",
       "      <th>2020-03-15</th>\n",
       "      <td>2800</td>\n",
       "      <td>1</td>\n",
       "      <td>0</td>\n",
       "      <td>0</td>\n",
       "      <td>0</td>\n",
       "      <td>0</td>\n",
       "    </tr>\n",
       "    <tr>\n",
       "      <th>2020-03-16</th>\n",
       "      <td>0</td>\n",
       "      <td>12</td>\n",
       "      <td>0</td>\n",
       "      <td>0</td>\n",
       "      <td>0</td>\n",
       "      <td>0</td>\n",
       "    </tr>\n",
       "    <tr>\n",
       "      <th>2020-03-17</th>\n",
       "      <td>0</td>\n",
       "      <td>29</td>\n",
       "      <td>0</td>\n",
       "      <td>0</td>\n",
       "      <td>0</td>\n",
       "      <td>1</td>\n",
       "    </tr>\n",
       "    <tr>\n",
       "      <th>2020-03-18</th>\n",
       "      <td>7197</td>\n",
       "      <td>51</td>\n",
       "      <td>0</td>\n",
       "      <td>0</td>\n",
       "      <td>0</td>\n",
       "      <td>0</td>\n",
       "    </tr>\n",
       "    <tr>\n",
       "      <th>2020-03-19</th>\n",
       "      <td>1981</td>\n",
       "      <td>94</td>\n",
       "      <td>0</td>\n",
       "      <td>0</td>\n",
       "      <td>0</td>\n",
       "      <td>2</td>\n",
       "    </tr>\n",
       "    <tr>\n",
       "      <th>2020-03-20</th>\n",
       "      <td>3656</td>\n",
       "      <td>167</td>\n",
       "      <td>0</td>\n",
       "      <td>0</td>\n",
       "      <td>0</td>\n",
       "      <td>1</td>\n",
       "    </tr>\n",
       "  </tbody>\n",
       "</table>\n",
       "</div>"
      ],
      "text/plain": [
       "            num_tests  num_case  total_intensive_care  total_intubated  \\\n",
       "date                                                                     \n",
       "2020-03-11          0         1                     0                0   \n",
       "2020-03-12          0         0                     0                0   \n",
       "2020-03-13          0         4                     0                0   \n",
       "2020-03-14          0         0                     0                0   \n",
       "2020-03-15       2800         1                     0                0   \n",
       "2020-03-16          0        12                     0                0   \n",
       "2020-03-17          0        29                     0                0   \n",
       "2020-03-18       7197        51                     0                0   \n",
       "2020-03-19       1981        94                     0                0   \n",
       "2020-03-20       3656       167                     0                0   \n",
       "\n",
       "            num_recovered  num_deaths  \n",
       "date                                   \n",
       "2020-03-11              0           0  \n",
       "2020-03-12              0           0  \n",
       "2020-03-13              0           0  \n",
       "2020-03-14              0           0  \n",
       "2020-03-15              0           0  \n",
       "2020-03-16              0           0  \n",
       "2020-03-17              0           1  \n",
       "2020-03-18              0           0  \n",
       "2020-03-19              0           2  \n",
       "2020-03-20              0           1  "
      ]
     },
     "execution_count": 9,
     "metadata": {},
     "output_type": "execute_result"
    }
   ],
   "source": [
    "dataset.head(10)"
   ]
  },
  {
   "cell_type": "code",
   "execution_count": 11,
   "metadata": {},
   "outputs": [
    {
     "data": {
      "text/plain": [
       "(array([18336., 18343., 18353., 18360., 18367., 18374.]),\n",
       " [Text(0, 0, ''),\n",
       "  Text(0, 0, ''),\n",
       "  Text(0, 0, ''),\n",
       "  Text(0, 0, ''),\n",
       "  Text(0, 0, ''),\n",
       "  Text(0, 0, '')])"
      ]
     },
     "execution_count": 11,
     "metadata": {},
     "output_type": "execute_result"
    },
    {
     "data": {
      "image/png": "[encoded data removed]",
      "text/plain": [
       "<Figure size 432x288 with 1 Axes>"
      ]
     },
     "metadata": {},
     "output_type": "display_data"
    }
   ],
   "source": [
    "plt.plot(dataset.index.values, dataset.num_tests.values, marker='o')\n",
    "plt.xticks(rotation=90)"
   ]
  },
  {
   "cell_type": "code",
   "execution_count": 12,
   "metadata": {
    "scrolled": true
   },
   "outputs": [
    {
     "data": {
      "text/plain": [
       "['num_tests',\n",
       " 'num_case',\n",
       " 'total_intensive_care',\n",
       " 'total_intubated',\n",
       " 'num_recovered',\n",
       " 'num_deaths']"
      ]
     },
     "execution_count": 12,
     "metadata": {},
     "output_type": "execute_result"
    }
   ],
   "source": [
    "dataset.columns.tolist()"
   ]
  },
  {
   "cell_type": "code",
   "execution_count": 13,
   "metadata": {},
   "outputs": [
    {
     "data": {
      "image/png": "[encoded data removed]",
      "text/plain": [
       "<Figure size 720x432 with 1 Axes>"
      ]
     },
     "metadata": {},
     "output_type": "display_data"
    },
    {
     "data": {
      "image/png": "[encoded data removed]",
      "text/plain": [
       "<Figure size 720x432 with 1 Axes>"
      ]
     },
     "metadata": {},
     "output_type": "display_data"
    },
    {
     "data": {
      "image/png": "[encoded data removed]",
      "text/plain": [
       "<Figure size 720x432 with 1 Axes>"
      ]
     },
     "metadata": {},
     "output_type": "display_data"
    },
    {
     "data": {
      "image/png": "[encoded data removed]",
      "text/plain": [
       "<Figure size 720x432 with 1 Axes>"
      ]
     },
     "metadata": {},
     "output_type": "display_data"
    },
    {
     "data": {
      "image/png": "[encoded data removed]",
      "text/plain": [
       "<Figure size 720x432 with 1 Axes>"
      ]
     },
     "metadata": {},
     "output_type": "display_data"
    },
    {
     "data": {
      "image/png": "[encoded data removed]",
      "text/plain": [
       "<Figure size 720x432 with 1 Axes>"
      ]
     },
     "metadata": {},
     "output_type": "display_data"
    }
   ],
   "source": [
    "for i,col in enumerate(dataset.columns.tolist()):\n",
    "    plt.figure(figsize=(10,6))\n",
    "    x_axis=dataset.index.values\n",
    "    y_axis=dataset[col].values\n",
    "    plt.plot(x_axis, y_axis, label=col, marker='o')\n",
    "    plt.xticks(rotation=90)\n",
    "    plt.title(col)\n",
    "    plt.xlabel('days')\n",
    "    plt.ylabel('number')\n",
    "    counter = 0\n",
    "    \n",
    "    for j,k in zip(x_axis,y_axis):\n",
    "        counter += 1\n",
    "        if counter % 7 == 0:\n",
    "            plt.annotate(str(k), xy=(j,k))\n",
    "\n"
   ]
  },
  {
   "cell_type": "code",
   "execution_count": 14,
   "metadata": {},
   "outputs": [],
   "source": [
    "dataset_shifted = dataset.iloc[9:,:]"
   ]
  },
  {
   "cell_type": "code",
   "execution_count": 15,
   "metadata": {},
   "outputs": [
    {
     "data": {
      "text/html": [
       "<div>\n",
       "<style scoped>\n",
       "    .dataframe tbody tr th:only-of-type {\n",
       "        vertical-align: middle;\n",
       "    }\n",
       "\n",
       "    .dataframe tbody tr th {\n",
       "        vertical-align: top;\n",
       "    }\n",
       "\n",
       "    .dataframe thead th {\n",
       "        text-align: right;\n",
       "    }\n",
       "</style>\n",
       "<table border=\"1\" class=\"dataframe\">\n",
       "  <thead>\n",
       "    <tr style=\"text-align: right;\">\n",
       "      <th></th>\n",
       "      <th>num_tests</th>\n",
       "      <th>num_case</th>\n",
       "      <th>total_intensive_care</th>\n",
       "      <th>total_intubated</th>\n",
       "      <th>num_recovered</th>\n",
       "      <th>num_deaths</th>\n",
       "    </tr>\n",
       "    <tr>\n",
       "      <th>date</th>\n",
       "      <th></th>\n",
       "      <th></th>\n",
       "      <th></th>\n",
       "      <th></th>\n",
       "      <th></th>\n",
       "      <th></th>\n",
       "    </tr>\n",
       "  </thead>\n",
       "  <tbody>\n",
       "    <tr>\n",
       "      <th>2020-03-20</th>\n",
       "      <td>3656</td>\n",
       "      <td>167</td>\n",
       "      <td>0</td>\n",
       "      <td>0</td>\n",
       "      <td>0</td>\n",
       "      <td>1</td>\n",
       "    </tr>\n",
       "    <tr>\n",
       "      <th>2020-03-21</th>\n",
       "      <td>2953</td>\n",
       "      <td>311</td>\n",
       "      <td>0</td>\n",
       "      <td>0</td>\n",
       "      <td>0</td>\n",
       "      <td>5</td>\n",
       "    </tr>\n",
       "    <tr>\n",
       "      <th>2020-03-22</th>\n",
       "      <td>1758</td>\n",
       "      <td>566</td>\n",
       "      <td>0</td>\n",
       "      <td>0</td>\n",
       "      <td>0</td>\n",
       "      <td>21</td>\n",
       "    </tr>\n",
       "    <tr>\n",
       "      <th>2020-03-23</th>\n",
       "      <td>3672</td>\n",
       "      <td>293</td>\n",
       "      <td>0</td>\n",
       "      <td>0</td>\n",
       "      <td>0</td>\n",
       "      <td>7</td>\n",
       "    </tr>\n",
       "    <tr>\n",
       "      <th>2020-03-24</th>\n",
       "      <td>3952</td>\n",
       "      <td>343</td>\n",
       "      <td>0</td>\n",
       "      <td>0</td>\n",
       "      <td>0</td>\n",
       "      <td>7</td>\n",
       "    </tr>\n",
       "    <tr>\n",
       "      <th>2020-03-25</th>\n",
       "      <td>5035</td>\n",
       "      <td>561</td>\n",
       "      <td>0</td>\n",
       "      <td>0</td>\n",
       "      <td>26</td>\n",
       "      <td>15</td>\n",
       "    </tr>\n",
       "    <tr>\n",
       "      <th>2020-03-26</th>\n",
       "      <td>7286</td>\n",
       "      <td>1196</td>\n",
       "      <td>0</td>\n",
       "      <td>0</td>\n",
       "      <td>0</td>\n",
       "      <td>16</td>\n",
       "    </tr>\n",
       "    <tr>\n",
       "      <th>2020-03-27</th>\n",
       "      <td>7533</td>\n",
       "      <td>2069</td>\n",
       "      <td>344</td>\n",
       "      <td>241</td>\n",
       "      <td>16</td>\n",
       "      <td>17</td>\n",
       "    </tr>\n",
       "    <tr>\n",
       "      <th>2020-03-28</th>\n",
       "      <td>7641</td>\n",
       "      <td>1704</td>\n",
       "      <td>445</td>\n",
       "      <td>309</td>\n",
       "      <td>28</td>\n",
       "      <td>16</td>\n",
       "    </tr>\n",
       "    <tr>\n",
       "      <th>2020-03-29</th>\n",
       "      <td>9982</td>\n",
       "      <td>1815</td>\n",
       "      <td>568</td>\n",
       "      <td>394</td>\n",
       "      <td>35</td>\n",
       "      <td>23</td>\n",
       "    </tr>\n",
       "  </tbody>\n",
       "</table>\n",
       "</div>"
      ],
      "text/plain": [
       "            num_tests  num_case  total_intensive_care  total_intubated  \\\n",
       "date                                                                     \n",
       "2020-03-20       3656       167                     0                0   \n",
       "2020-03-21       2953       311                     0                0   \n",
       "2020-03-22       1758       566                     0                0   \n",
       "2020-03-23       3672       293                     0                0   \n",
       "2020-03-24       3952       343                     0                0   \n",
       "2020-03-25       5035       561                     0                0   \n",
       "2020-03-26       7286      1196                     0                0   \n",
       "2020-03-27       7533      2069                   344              241   \n",
       "2020-03-28       7641      1704                   445              309   \n",
       "2020-03-29       9982      1815                   568              394   \n",
       "\n",
       "            num_recovered  num_deaths  \n",
       "date                                   \n",
       "2020-03-20              0           1  \n",
       "2020-03-21              0           5  \n",
       "2020-03-22              0          21  \n",
       "2020-03-23              0           7  \n",
       "2020-03-24              0           7  \n",
       "2020-03-25             26          15  \n",
       "2020-03-26              0          16  \n",
       "2020-03-27             16          17  \n",
       "2020-03-28             28          16  \n",
       "2020-03-29             35          23  "
      ]
     },
     "execution_count": 15,
     "metadata": {},
     "output_type": "execute_result"
    }
   ],
   "source": [
    "dataset_shifted.head(10)"
   ]
  },
  {
   "cell_type": "code",
   "execution_count": 16,
   "metadata": {
    "scrolled": true
   },
   "outputs": [
    {
     "data": {
      "text/html": [
       "<div>\n",
       "<style scoped>\n",
       "    .dataframe tbody tr th:only-of-type {\n",
       "        vertical-align: middle;\n",
       "    }\n",
       "\n",
       "    .dataframe tbody tr th {\n",
       "        vertical-align: top;\n",
       "    }\n",
       "\n",
       "    .dataframe thead th {\n",
       "        text-align: right;\n",
       "    }\n",
       "</style>\n",
       "<table border=\"1\" class=\"dataframe\">\n",
       "  <thead>\n",
       "    <tr style=\"text-align: right;\">\n",
       "      <th></th>\n",
       "      <th>num_tests</th>\n",
       "      <th>num_case</th>\n",
       "      <th>total_intensive_care</th>\n",
       "      <th>total_intubated</th>\n",
       "      <th>num_recovered</th>\n",
       "      <th>num_deaths</th>\n",
       "    </tr>\n",
       "  </thead>\n",
       "  <tbody>\n",
       "    <tr>\n",
       "      <th>count</th>\n",
       "      <td>33.000000</td>\n",
       "      <td>33.000000</td>\n",
       "      <td>33.000000</td>\n",
       "      <td>33.000000</td>\n",
       "      <td>33.000000</td>\n",
       "      <td>33.000000</td>\n",
       "    </tr>\n",
       "    <tr>\n",
       "      <th>mean</th>\n",
       "      <td>21255.484848</td>\n",
       "      <td>2890.878788</td>\n",
       "      <td>1107.484848</td>\n",
       "      <td>687.303030</td>\n",
       "      <td>452.848485</td>\n",
       "      <td>68.363636</td>\n",
       "    </tr>\n",
       "    <tr>\n",
       "      <th>std</th>\n",
       "      <td>13421.055955</td>\n",
       "      <td>1595.323728</td>\n",
       "      <td>724.413518</td>\n",
       "      <td>424.414559</td>\n",
       "      <td>571.175275</td>\n",
       "      <td>43.126136</td>\n",
       "    </tr>\n",
       "    <tr>\n",
       "      <th>min</th>\n",
       "      <td>1758.000000</td>\n",
       "      <td>167.000000</td>\n",
       "      <td>0.000000</td>\n",
       "      <td>0.000000</td>\n",
       "      <td>0.000000</td>\n",
       "      <td>1.000000</td>\n",
       "    </tr>\n",
       "    <tr>\n",
       "      <th>25%</th>\n",
       "      <td>7641.000000</td>\n",
       "      <td>1704.000000</td>\n",
       "      <td>445.000000</td>\n",
       "      <td>309.000000</td>\n",
       "      <td>28.000000</td>\n",
       "      <td>21.000000</td>\n",
       "    </tr>\n",
       "    <tr>\n",
       "      <th>50%</th>\n",
       "      <td>20023.000000</td>\n",
       "      <td>3135.000000</td>\n",
       "      <td>1381.000000</td>\n",
       "      <td>935.000000</td>\n",
       "      <td>256.000000</td>\n",
       "      <td>76.000000</td>\n",
       "    </tr>\n",
       "    <tr>\n",
       "      <th>75%</th>\n",
       "      <td>34090.000000</td>\n",
       "      <td>4117.000000</td>\n",
       "      <td>1786.000000</td>\n",
       "      <td>1021.000000</td>\n",
       "      <td>542.000000</td>\n",
       "      <td>98.000000</td>\n",
       "    </tr>\n",
       "    <tr>\n",
       "      <th>max</th>\n",
       "      <td>40520.000000</td>\n",
       "      <td>5138.000000</td>\n",
       "      <td>1922.000000</td>\n",
       "      <td>1087.000000</td>\n",
       "      <td>1822.000000</td>\n",
       "      <td>127.000000</td>\n",
       "    </tr>\n",
       "  </tbody>\n",
       "</table>\n",
       "</div>"
      ],
      "text/plain": [
       "          num_tests     num_case  total_intensive_care  total_intubated  \\\n",
       "count     33.000000    33.000000             33.000000        33.000000   \n",
       "mean   21255.484848  2890.878788           1107.484848       687.303030   \n",
       "std    13421.055955  1595.323728            724.413518       424.414559   \n",
       "min     1758.000000   167.000000              0.000000         0.000000   \n",
       "25%     7641.000000  1704.000000            445.000000       309.000000   \n",
       "50%    20023.000000  3135.000000           1381.000000       935.000000   \n",
       "75%    34090.000000  4117.000000           1786.000000      1021.000000   \n",
       "max    40520.000000  5138.000000           1922.000000      1087.000000   \n",
       "\n",
       "       num_recovered  num_deaths  \n",
       "count      33.000000   33.000000  \n",
       "mean      452.848485   68.363636  \n",
       "std       571.175275   43.126136  \n",
       "min         0.000000    1.000000  \n",
       "25%        28.000000   21.000000  \n",
       "50%       256.000000   76.000000  \n",
       "75%       542.000000   98.000000  \n",
       "max      1822.000000  127.000000  "
      ]
     },
     "execution_count": 16,
     "metadata": {},
     "output_type": "execute_result"
    }
   ],
   "source": [
    "dataset_shifted.describe()"
   ]
  },
  {
   "cell_type": "code",
   "execution_count": 17,
   "metadata": {},
   "outputs": [],
   "source": [
    "# normalization to datas"
   ]
  },
  {
   "cell_type": "code",
   "execution_count": 18,
   "metadata": {},
   "outputs": [],
   "source": [
    "scaler = MinMaxScaler()"
   ]
  },
  {
   "cell_type": "code",
   "execution_count": 20,
   "metadata": {},
   "outputs": [],
   "source": [
    "dataset_scaled = scaler.fit_transform(dataset_shifted.values)"
   ]
  },
  {
   "cell_type": "code",
   "execution_count": 21,
   "metadata": {},
   "outputs": [],
   "source": [
    "dataset_scaled = pd.DataFrame(dataset_scaled, columns=dataset_shifted.columns) "
   ]
  },
  {
   "cell_type": "code",
   "execution_count": 22,
   "metadata": {},
   "outputs": [
    {
     "data": {
      "text/html": [
       "<div>\n",
       "<style scoped>\n",
       "    .dataframe tbody tr th:only-of-type {\n",
       "        vertical-align: middle;\n",
       "    }\n",
       "\n",
       "    .dataframe tbody tr th {\n",
       "        vertical-align: top;\n",
       "    }\n",
       "\n",
       "    .dataframe thead th {\n",
       "        text-align: right;\n",
       "    }\n",
       "</style>\n",
       "<table border=\"1\" class=\"dataframe\">\n",
       "  <thead>\n",
       "    <tr style=\"text-align: right;\">\n",
       "      <th></th>\n",
       "      <th>num_tests</th>\n",
       "      <th>num_case</th>\n",
       "      <th>total_intensive_care</th>\n",
       "      <th>total_intubated</th>\n",
       "      <th>num_recovered</th>\n",
       "      <th>num_deaths</th>\n",
       "    </tr>\n",
       "  </thead>\n",
       "  <tbody>\n",
       "    <tr>\n",
       "      <th>0</th>\n",
       "      <td>0.048965</td>\n",
       "      <td>0.000000</td>\n",
       "      <td>0.000000</td>\n",
       "      <td>0.000000</td>\n",
       "      <td>0.000000</td>\n",
       "      <td>0.000000</td>\n",
       "    </tr>\n",
       "    <tr>\n",
       "      <th>1</th>\n",
       "      <td>0.030829</td>\n",
       "      <td>0.028968</td>\n",
       "      <td>0.000000</td>\n",
       "      <td>0.000000</td>\n",
       "      <td>0.000000</td>\n",
       "      <td>0.031746</td>\n",
       "    </tr>\n",
       "    <tr>\n",
       "      <th>2</th>\n",
       "      <td>0.000000</td>\n",
       "      <td>0.080266</td>\n",
       "      <td>0.000000</td>\n",
       "      <td>0.000000</td>\n",
       "      <td>0.000000</td>\n",
       "      <td>0.158730</td>\n",
       "    </tr>\n",
       "    <tr>\n",
       "      <th>3</th>\n",
       "      <td>0.049378</td>\n",
       "      <td>0.025347</td>\n",
       "      <td>0.000000</td>\n",
       "      <td>0.000000</td>\n",
       "      <td>0.000000</td>\n",
       "      <td>0.047619</td>\n",
       "    </tr>\n",
       "    <tr>\n",
       "      <th>4</th>\n",
       "      <td>0.056602</td>\n",
       "      <td>0.035405</td>\n",
       "      <td>0.000000</td>\n",
       "      <td>0.000000</td>\n",
       "      <td>0.000000</td>\n",
       "      <td>0.047619</td>\n",
       "    </tr>\n",
       "    <tr>\n",
       "      <th>5</th>\n",
       "      <td>0.084542</td>\n",
       "      <td>0.079260</td>\n",
       "      <td>0.000000</td>\n",
       "      <td>0.000000</td>\n",
       "      <td>0.014270</td>\n",
       "      <td>0.111111</td>\n",
       "    </tr>\n",
       "    <tr>\n",
       "      <th>6</th>\n",
       "      <td>0.142614</td>\n",
       "      <td>0.207001</td>\n",
       "      <td>0.000000</td>\n",
       "      <td>0.000000</td>\n",
       "      <td>0.000000</td>\n",
       "      <td>0.119048</td>\n",
       "    </tr>\n",
       "    <tr>\n",
       "      <th>7</th>\n",
       "      <td>0.148986</td>\n",
       "      <td>0.382619</td>\n",
       "      <td>0.178980</td>\n",
       "      <td>0.221711</td>\n",
       "      <td>0.008782</td>\n",
       "      <td>0.126984</td>\n",
       "    </tr>\n",
       "    <tr>\n",
       "      <th>8</th>\n",
       "      <td>0.151772</td>\n",
       "      <td>0.309193</td>\n",
       "      <td>0.231530</td>\n",
       "      <td>0.284269</td>\n",
       "      <td>0.015368</td>\n",
       "      <td>0.119048</td>\n",
       "    </tr>\n",
       "    <tr>\n",
       "      <th>9</th>\n",
       "      <td>0.212167</td>\n",
       "      <td>0.331523</td>\n",
       "      <td>0.295525</td>\n",
       "      <td>0.362466</td>\n",
       "      <td>0.019210</td>\n",
       "      <td>0.174603</td>\n",
       "    </tr>\n",
       "    <tr>\n",
       "      <th>10</th>\n",
       "      <td>0.252232</td>\n",
       "      <td>0.290284</td>\n",
       "      <td>0.377211</td>\n",
       "      <td>0.481141</td>\n",
       "      <td>0.031284</td>\n",
       "      <td>0.285714</td>\n",
       "    </tr>\n",
       "    <tr>\n",
       "      <th>11</th>\n",
       "      <td>0.352510</td>\n",
       "      <td>0.510360</td>\n",
       "      <td>0.440687</td>\n",
       "      <td>0.572217</td>\n",
       "      <td>0.044457</td>\n",
       "      <td>0.357143</td>\n",
       "    </tr>\n",
       "    <tr>\n",
       "      <th>12</th>\n",
       "      <td>0.326041</td>\n",
       "      <td>0.398511</td>\n",
       "      <td>0.509365</td>\n",
       "      <td>0.636615</td>\n",
       "      <td>0.049396</td>\n",
       "      <td>0.492063</td>\n",
       "    </tr>\n",
       "    <tr>\n",
       "      <th>13</th>\n",
       "      <td>0.438548</td>\n",
       "      <td>0.460471</td>\n",
       "      <td>0.572841</td>\n",
       "      <td>0.720331</td>\n",
       "      <td>0.045005</td>\n",
       "      <td>0.619048</td>\n",
       "    </tr>\n",
       "    <tr>\n",
       "      <th>14</th>\n",
       "      <td>0.371549</td>\n",
       "      <td>0.526856</td>\n",
       "      <td>0.650884</td>\n",
       "      <td>0.797608</td>\n",
       "      <td>0.037870</td>\n",
       "      <td>0.539683</td>\n",
       "    </tr>\n",
       "    <tr>\n",
       "      <th>15</th>\n",
       "      <td>0.461947</td>\n",
       "      <td>0.572521</td>\n",
       "      <td>0.682102</td>\n",
       "      <td>0.836247</td>\n",
       "      <td>0.165752</td>\n",
       "      <td>0.595238</td>\n",
       "    </tr>\n",
       "    <tr>\n",
       "      <th>16</th>\n",
       "      <td>0.472292</td>\n",
       "      <td>0.597063</td>\n",
       "      <td>0.718522</td>\n",
       "      <td>0.860166</td>\n",
       "      <td>0.140505</td>\n",
       "      <td>0.571429</td>\n",
       "    </tr>\n",
       "    <tr>\n",
       "      <th>17</th>\n",
       "      <td>0.506733</td>\n",
       "      <td>0.599678</td>\n",
       "      <td>0.736212</td>\n",
       "      <td>0.888684</td>\n",
       "      <td>0.155873</td>\n",
       "      <td>0.587302</td>\n",
       "    </tr>\n",
       "    <tr>\n",
       "      <th>18</th>\n",
       "      <td>0.471209</td>\n",
       "      <td>0.749346</td>\n",
       "      <td>0.766909</td>\n",
       "      <td>0.908004</td>\n",
       "      <td>0.140505</td>\n",
       "      <td>0.595238</td>\n",
       "    </tr>\n",
       "    <tr>\n",
       "      <th>19</th>\n",
       "      <td>0.597028</td>\n",
       "      <td>0.794609</td>\n",
       "      <td>0.776275</td>\n",
       "      <td>0.915363</td>\n",
       "      <td>0.144896</td>\n",
       "      <td>0.682540</td>\n",
       "    </tr>\n",
       "    <tr>\n",
       "      <th>20</th>\n",
       "      <td>0.691915</td>\n",
       "      <td>0.782338</td>\n",
       "      <td>0.807492</td>\n",
       "      <td>0.935603</td>\n",
       "      <td>0.162459</td>\n",
       "      <td>0.753968</td>\n",
       "    </tr>\n",
       "    <tr>\n",
       "      <th>21</th>\n",
       "      <td>0.750890</td>\n",
       "      <td>0.921344</td>\n",
       "      <td>0.867326</td>\n",
       "      <td>0.977001</td>\n",
       "      <td>0.154226</td>\n",
       "      <td>0.769841</td>\n",
       "    </tr>\n",
       "    <tr>\n",
       "      <th>22</th>\n",
       "      <td>0.810381</td>\n",
       "      <td>1.000000</td>\n",
       "      <td>0.845994</td>\n",
       "      <td>0.939282</td>\n",
       "      <td>0.297475</td>\n",
       "      <td>0.746032</td>\n",
       "    </tr>\n",
       "    <tr>\n",
       "      <th>23</th>\n",
       "      <td>0.876167</td>\n",
       "      <td>0.929793</td>\n",
       "      <td>0.866285</td>\n",
       "      <td>0.899724</td>\n",
       "      <td>0.263996</td>\n",
       "      <td>0.761905</td>\n",
       "    </tr>\n",
       "    <tr>\n",
       "      <th>24</th>\n",
       "      <td>0.843558</td>\n",
       "      <td>0.789781</td>\n",
       "      <td>0.929240</td>\n",
       "      <td>0.977921</td>\n",
       "      <td>0.294731</td>\n",
       "      <td>0.769841</td>\n",
       "    </tr>\n",
       "    <tr>\n",
       "      <th>25</th>\n",
       "      <td>0.807801</td>\n",
       "      <td>0.783545</td>\n",
       "      <td>0.941207</td>\n",
       "      <td>1.000000</td>\n",
       "      <td>0.462130</td>\n",
       "      <td>0.841270</td>\n",
       "    </tr>\n",
       "    <tr>\n",
       "      <th>26</th>\n",
       "      <td>0.834116</td>\n",
       "      <td>0.827600</td>\n",
       "      <td>0.946930</td>\n",
       "      <td>0.967801</td>\n",
       "      <td>0.480241</td>\n",
       "      <td>0.904762</td>\n",
       "    </tr>\n",
       "    <tr>\n",
       "      <th>27</th>\n",
       "      <td>0.997601</td>\n",
       "      <td>0.932207</td>\n",
       "      <td>0.964620</td>\n",
       "      <td>0.956762</td>\n",
       "      <td>0.776619</td>\n",
       "      <td>0.984127</td>\n",
       "    </tr>\n",
       "    <tr>\n",
       "      <th>28</th>\n",
       "      <td>0.993550</td>\n",
       "      <td>0.842084</td>\n",
       "      <td>0.959938</td>\n",
       "      <td>0.932843</td>\n",
       "      <td>0.846323</td>\n",
       "      <td>0.992063</td>\n",
       "    </tr>\n",
       "    <tr>\n",
       "      <th>29</th>\n",
       "      <td>1.000000</td>\n",
       "      <td>0.727419</td>\n",
       "      <td>0.985432</td>\n",
       "      <td>0.969641</td>\n",
       "      <td>1.000000</td>\n",
       "      <td>0.952381</td>\n",
       "    </tr>\n",
       "    <tr>\n",
       "      <th>30</th>\n",
       "      <td>0.866467</td>\n",
       "      <td>0.766445</td>\n",
       "      <td>1.000000</td>\n",
       "      <td>0.948482</td>\n",
       "      <td>0.835895</td>\n",
       "      <td>1.000000</td>\n",
       "    </tr>\n",
       "    <tr>\n",
       "      <th>31</th>\n",
       "      <td>0.978923</td>\n",
       "      <td>0.906659</td>\n",
       "      <td>0.993236</td>\n",
       "      <td>0.950322</td>\n",
       "      <td>0.798024</td>\n",
       "      <td>0.968254</td>\n",
       "    </tr>\n",
       "    <tr>\n",
       "      <th>32</th>\n",
       "      <td>0.971854</td>\n",
       "      <td>0.893985</td>\n",
       "      <td>0.970343</td>\n",
       "      <td>0.925483</td>\n",
       "      <td>0.816685</td>\n",
       "      <td>0.936508</td>\n",
       "    </tr>\n",
       "  </tbody>\n",
       "</table>\n",
       "</div>"
      ],
      "text/plain": [
       "    num_tests  num_case  total_intensive_care  total_intubated  num_recovered  \\\n",
       "0    0.048965  0.000000              0.000000         0.000000       0.000000   \n",
       "1    0.030829  0.028968              0.000000         0.000000       0.000000   \n",
       "2    0.000000  0.080266              0.000000         0.000000       0.000000   \n",
       "3    0.049378  0.025347              0.000000         0.000000       0.000000   \n",
       "4    0.056602  0.035405              0.000000         0.000000       0.000000   \n",
       "5    0.084542  0.079260              0.000000         0.000000       0.014270   \n",
       "6    0.142614  0.207001              0.000000         0.000000       0.000000   \n",
       "7    0.148986  0.382619              0.178980         0.221711       0.008782   \n",
       "8    0.151772  0.309193              0.231530         0.284269       0.015368   \n",
       "9    0.212167  0.331523              0.295525         0.362466       0.019210   \n",
       "10   0.252232  0.290284              0.377211         0.481141       0.031284   \n",
       "11   0.352510  0.510360              0.440687         0.572217       0.044457   \n",
       "12   0.326041  0.398511              0.509365         0.636615       0.049396   \n",
       "13   0.438548  0.460471              0.572841         0.720331       0.045005   \n",
       "14   0.371549  0.526856              0.650884         0.797608       0.037870   \n",
       "15   0.461947  0.572521              0.682102         0.836247       0.165752   \n",
       "16   0.472292  0.597063              0.718522         0.860166       0.140505   \n",
       "17   0.506733  0.599678              0.736212         0.888684       0.155873   \n",
       "18   0.471209  0.749346              0.766909         0.908004       0.140505   \n",
       "19   0.597028  0.794609              0.776275         0.915363       0.144896   \n",
       "20   0.691915  0.782338              0.807492         0.935603       0.162459   \n",
       "21   0.750890  0.921344              0.867326         0.977001       0.154226   \n",
       "22   0.810381  1.000000              0.845994         0.939282       0.297475   \n",
       "23   0.876167  0.929793              0.866285         0.899724       0.263996   \n",
       "24   0.843558  0.789781              0.929240         0.977921       0.294731   \n",
       "25   0.807801  0.783545              0.941207         1.000000       0.462130   \n",
       "26   0.834116  0.827600              0.946930         0.967801       0.480241   \n",
       "27   0.997601  0.932207              0.964620         0.956762       0.776619   \n",
       "28   0.993550  0.842084              0.959938         0.932843       0.846323   \n",
       "29   1.000000  0.727419              0.985432         0.969641       1.000000   \n",
       "30   0.866467  0.766445              1.000000         0.948482       0.835895   \n",
       "31   0.978923  0.906659              0.993236         0.950322       0.798024   \n",
       "32   0.971854  0.893985              0.970343         0.925483       0.816685   \n",
       "\n",
       "    num_deaths  \n",
       "0     0.000000  \n",
       "1     0.031746  \n",
       "2     0.158730  \n",
       "3     0.047619  \n",
       "4     0.047619  \n",
       "5     0.111111  \n",
       "6     0.119048  \n",
       "7     0.126984  \n",
       "8     0.119048  \n",
       "9     0.174603  \n",
       "10    0.285714  \n",
       "11    0.357143  \n",
       "12    0.492063  \n",
       "13    0.619048  \n",
       "14    0.539683  \n",
       "15    0.595238  \n",
       "16    0.571429  \n",
       "17    0.587302  \n",
       "18    0.595238  \n",
       "19    0.682540  \n",
       "20    0.753968  \n",
       "21    0.769841  \n",
       "22    0.746032  \n",
       "23    0.761905  \n",
       "24    0.769841  \n",
       "25    0.841270  \n",
       "26    0.904762  \n",
       "27    0.984127  \n",
       "28    0.992063  \n",
       "29    0.952381  \n",
       "30    1.000000  \n",
       "31    0.968254  \n",
       "32    0.936508  "
      ]
     },
     "execution_count": 22,
     "metadata": {},
     "output_type": "execute_result"
    }
   ],
   "source": [
    "dataset_scaled"
   ]
  },
  {
   "cell_type": "code",
   "execution_count": 23,
   "metadata": {},
   "outputs": [],
   "source": [
    "dataset_scaled.index = dataset_shifted.index"
   ]
  },
  {
   "cell_type": "code",
   "execution_count": 24,
   "metadata": {},
   "outputs": [
    {
     "data": {
      "text/html": [
       "<div>\n",
       "<style scoped>\n",
       "    .dataframe tbody tr th:only-of-type {\n",
       "        vertical-align: middle;\n",
       "    }\n",
       "\n",
       "    .dataframe tbody tr th {\n",
       "        vertical-align: top;\n",
       "    }\n",
       "\n",
       "    .dataframe thead th {\n",
       "        text-align: right;\n",
       "    }\n",
       "</style>\n",
       "<table border=\"1\" class=\"dataframe\">\n",
       "  <thead>\n",
       "    <tr style=\"text-align: right;\">\n",
       "      <th></th>\n",
       "      <th>num_tests</th>\n",
       "      <th>num_case</th>\n",
       "      <th>total_intensive_care</th>\n",
       "      <th>total_intubated</th>\n",
       "      <th>num_recovered</th>\n",
       "      <th>num_deaths</th>\n",
       "    </tr>\n",
       "    <tr>\n",
       "      <th>date</th>\n",
       "      <th></th>\n",
       "      <th></th>\n",
       "      <th></th>\n",
       "      <th></th>\n",
       "      <th></th>\n",
       "      <th></th>\n",
       "    </tr>\n",
       "  </thead>\n",
       "  <tbody>\n",
       "    <tr>\n",
       "      <th>2020-03-20</th>\n",
       "      <td>0.048965</td>\n",
       "      <td>0.000000</td>\n",
       "      <td>0.0</td>\n",
       "      <td>0.0</td>\n",
       "      <td>0.0</td>\n",
       "      <td>0.000000</td>\n",
       "    </tr>\n",
       "    <tr>\n",
       "      <th>2020-03-21</th>\n",
       "      <td>0.030829</td>\n",
       "      <td>0.028968</td>\n",
       "      <td>0.0</td>\n",
       "      <td>0.0</td>\n",
       "      <td>0.0</td>\n",
       "      <td>0.031746</td>\n",
       "    </tr>\n",
       "    <tr>\n",
       "      <th>2020-03-22</th>\n",
       "      <td>0.000000</td>\n",
       "      <td>0.080266</td>\n",
       "      <td>0.0</td>\n",
       "      <td>0.0</td>\n",
       "      <td>0.0</td>\n",
       "      <td>0.158730</td>\n",
       "    </tr>\n",
       "    <tr>\n",
       "      <th>2020-03-23</th>\n",
       "      <td>0.049378</td>\n",
       "      <td>0.025347</td>\n",
       "      <td>0.0</td>\n",
       "      <td>0.0</td>\n",
       "      <td>0.0</td>\n",
       "      <td>0.047619</td>\n",
       "    </tr>\n",
       "    <tr>\n",
       "      <th>2020-03-24</th>\n",
       "      <td>0.056602</td>\n",
       "      <td>0.035405</td>\n",
       "      <td>0.0</td>\n",
       "      <td>0.0</td>\n",
       "      <td>0.0</td>\n",
       "      <td>0.047619</td>\n",
       "    </tr>\n",
       "  </tbody>\n",
       "</table>\n",
       "</div>"
      ],
      "text/plain": [
       "            num_tests  num_case  total_intensive_care  total_intubated  \\\n",
       "date                                                                     \n",
       "2020-03-20   0.048965  0.000000                   0.0              0.0   \n",
       "2020-03-21   0.030829  0.028968                   0.0              0.0   \n",
       "2020-03-22   0.000000  0.080266                   0.0              0.0   \n",
       "2020-03-23   0.049378  0.025347                   0.0              0.0   \n",
       "2020-03-24   0.056602  0.035405                   0.0              0.0   \n",
       "\n",
       "            num_recovered  num_deaths  \n",
       "date                                   \n",
       "2020-03-20            0.0    0.000000  \n",
       "2020-03-21            0.0    0.031746  \n",
       "2020-03-22            0.0    0.158730  \n",
       "2020-03-23            0.0    0.047619  \n",
       "2020-03-24            0.0    0.047619  "
      ]
     },
     "execution_count": 24,
     "metadata": {},
     "output_type": "execute_result"
    }
   ],
   "source": [
    "dataset_scaled.head()"
   ]
  },
  {
   "cell_type": "code",
   "execution_count": 25,
   "metadata": {},
   "outputs": [],
   "source": [
    "corr = dataset_scaled.corr()"
   ]
  },
  {
   "cell_type": "code",
   "execution_count": 26,
   "metadata": {},
   "outputs": [
    {
     "data": {
      "text/html": [
       "<div>\n",
       "<style scoped>\n",
       "    .dataframe tbody tr th:only-of-type {\n",
       "        vertical-align: middle;\n",
       "    }\n",
       "\n",
       "    .dataframe tbody tr th {\n",
       "        vertical-align: top;\n",
       "    }\n",
       "\n",
       "    .dataframe thead th {\n",
       "        text-align: right;\n",
       "    }\n",
       "</style>\n",
       "<table border=\"1\" class=\"dataframe\">\n",
       "  <thead>\n",
       "    <tr style=\"text-align: right;\">\n",
       "      <th></th>\n",
       "      <th>num_tests</th>\n",
       "      <th>num_case</th>\n",
       "      <th>total_intensive_care</th>\n",
       "      <th>total_intubated</th>\n",
       "      <th>num_recovered</th>\n",
       "      <th>num_deaths</th>\n",
       "    </tr>\n",
       "  </thead>\n",
       "  <tbody>\n",
       "    <tr>\n",
       "      <th>num_tests</th>\n",
       "      <td>1.000000</td>\n",
       "      <td>0.939266</td>\n",
       "      <td>0.956330</td>\n",
       "      <td>0.899342</td>\n",
       "      <td>0.854870</td>\n",
       "      <td>0.973720</td>\n",
       "    </tr>\n",
       "    <tr>\n",
       "      <th>num_case</th>\n",
       "      <td>0.939266</td>\n",
       "      <td>1.000000</td>\n",
       "      <td>0.958863</td>\n",
       "      <td>0.946025</td>\n",
       "      <td>0.673708</td>\n",
       "      <td>0.931931</td>\n",
       "    </tr>\n",
       "    <tr>\n",
       "      <th>total_intensive_care</th>\n",
       "      <td>0.956330</td>\n",
       "      <td>0.958863</td>\n",
       "      <td>1.000000</td>\n",
       "      <td>0.984560</td>\n",
       "      <td>0.745196</td>\n",
       "      <td>0.977441</td>\n",
       "    </tr>\n",
       "    <tr>\n",
       "      <th>total_intubated</th>\n",
       "      <td>0.899342</td>\n",
       "      <td>0.946025</td>\n",
       "      <td>0.984560</td>\n",
       "      <td>1.000000</td>\n",
       "      <td>0.629068</td>\n",
       "      <td>0.939364</td>\n",
       "    </tr>\n",
       "    <tr>\n",
       "      <th>num_recovered</th>\n",
       "      <td>0.854870</td>\n",
       "      <td>0.673708</td>\n",
       "      <td>0.745196</td>\n",
       "      <td>0.629068</td>\n",
       "      <td>1.000000</td>\n",
       "      <td>0.820568</td>\n",
       "    </tr>\n",
       "    <tr>\n",
       "      <th>num_deaths</th>\n",
       "      <td>0.973720</td>\n",
       "      <td>0.931931</td>\n",
       "      <td>0.977441</td>\n",
       "      <td>0.939364</td>\n",
       "      <td>0.820568</td>\n",
       "      <td>1.000000</td>\n",
       "    </tr>\n",
       "  </tbody>\n",
       "</table>\n",
       "</div>"
      ],
      "text/plain": [
       "                      num_tests  num_case  total_intensive_care  \\\n",
       "num_tests              1.000000  0.939266              0.956330   \n",
       "num_case               0.939266  1.000000              0.958863   \n",
       "total_intensive_care   0.956330  0.958863              1.000000   \n",
       "total_intubated        0.899342  0.946025              0.984560   \n",
       "num_recovered          0.854870  0.673708              0.745196   \n",
       "num_deaths             0.973720  0.931931              0.977441   \n",
       "\n",
       "                      total_intubated  num_recovered  num_deaths  \n",
       "num_tests                    0.899342       0.854870    0.973720  \n",
       "num_case                     0.946025       0.673708    0.931931  \n",
       "total_intensive_care         0.984560       0.745196    0.977441  \n",
       "total_intubated              1.000000       0.629068    0.939364  \n",
       "num_recovered                0.629068       1.000000    0.820568  \n",
       "num_deaths                   0.939364       0.820568    1.000000  "
      ]
     },
     "execution_count": 26,
     "metadata": {},
     "output_type": "execute_result"
    }
   ],
   "source": [
    "corr"
   ]
  },
  {
   "cell_type": "code",
   "execution_count": 27,
   "metadata": {},
   "outputs": [
    {
     "data": {
      "text/plain": [
       "<AxesSubplot:>"
      ]
     },
     "execution_count": 27,
     "metadata": {},
     "output_type": "execute_result"
    },
    {
     "data": {
      "image/png": "[encoded data removed]",
      "text/plain": [
       "<Figure size 432x288 with 2 Axes>"
      ]
     },
     "metadata": {},
     "output_type": "display_data"
    }
   ],
   "source": [
    "heatmap(corr, xticklabels=dataset.columns, yticklabels=dataset.columns)"
   ]
  },
  {
   "cell_type": "code",
   "execution_count": 28,
   "metadata": {},
   "outputs": [],
   "source": [
    "X = dataset_scaled.iloc[:,[1,4]]\n",
    "y = dataset_scaled.iloc[:,[2,3]]"
   ]
  },
  {
   "cell_type": "code",
   "execution_count": 31,
   "metadata": {},
   "outputs": [
    {
     "data": {
      "text/html": [
       "<div>\n",
       "<style scoped>\n",
       "    .dataframe tbody tr th:only-of-type {\n",
       "        vertical-align: middle;\n",
       "    }\n",
       "\n",
       "    .dataframe tbody tr th {\n",
       "        vertical-align: top;\n",
       "    }\n",
       "\n",
       "    .dataframe thead th {\n",
       "        text-align: right;\n",
       "    }\n",
       "</style>\n",
       "<table border=\"1\" class=\"dataframe\">\n",
       "  <thead>\n",
       "    <tr style=\"text-align: right;\">\n",
       "      <th></th>\n",
       "      <th>total_intensive_care</th>\n",
       "      <th>total_intubated</th>\n",
       "    </tr>\n",
       "    <tr>\n",
       "      <th>date</th>\n",
       "      <th></th>\n",
       "      <th></th>\n",
       "    </tr>\n",
       "  </thead>\n",
       "  <tbody>\n",
       "    <tr>\n",
       "      <th>2020-04-17</th>\n",
       "      <td>0.959938</td>\n",
       "      <td>0.932843</td>\n",
       "    </tr>\n",
       "    <tr>\n",
       "      <th>2020-04-18</th>\n",
       "      <td>0.985432</td>\n",
       "      <td>0.969641</td>\n",
       "    </tr>\n",
       "    <tr>\n",
       "      <th>2020-04-19</th>\n",
       "      <td>1.000000</td>\n",
       "      <td>0.948482</td>\n",
       "    </tr>\n",
       "    <tr>\n",
       "      <th>2020-04-20</th>\n",
       "      <td>0.993236</td>\n",
       "      <td>0.950322</td>\n",
       "    </tr>\n",
       "    <tr>\n",
       "      <th>2020-04-21</th>\n",
       "      <td>0.970343</td>\n",
       "      <td>0.925483</td>\n",
       "    </tr>\n",
       "  </tbody>\n",
       "</table>\n",
       "</div>"
      ],
      "text/plain": [
       "            total_intensive_care  total_intubated\n",
       "date                                             \n",
       "2020-04-17              0.959938         0.932843\n",
       "2020-04-18              0.985432         0.969641\n",
       "2020-04-19              1.000000         0.948482\n",
       "2020-04-20              0.993236         0.950322\n",
       "2020-04-21              0.970343         0.925483"
      ]
     },
     "execution_count": 31,
     "metadata": {},
     "output_type": "execute_result"
    }
   ],
   "source": [
    "y.tail()"
   ]
  },
  {
   "cell_type": "code",
   "execution_count": 32,
   "metadata": {},
   "outputs": [
    {
     "data": {
      "text/plain": [
       "MLPRegressor(hidden_layer_sizes=75, learning_rate_init=0.05, max_iter=100000,\n",
       "             random_state=42)"
      ]
     },
     "execution_count": 32,
     "metadata": {},
     "output_type": "execute_result"
    }
   ],
   "source": [
    "mlp = MLPRegressor(hidden_layer_sizes=(75), max_iter=100000, learning_rate_init=0.05, random_state=42)\n",
    "\n",
    "mlp.fit(X.values,y.values)"
   ]
  },
  {
   "cell_type": "code",
   "execution_count": 33,
   "metadata": {},
   "outputs": [],
   "source": [
    "y_predicted = mlp.predict(X.values)"
   ]
  },
  {
   "cell_type": "code",
   "execution_count": 34,
   "metadata": {},
   "outputs": [
    {
     "data": {
      "text/plain": [
       "array([[-0.05704642, -0.08922999],\n",
       "       [-0.02844771, -0.053589  ],\n",
       "       [ 0.02219585,  0.00952525],\n",
       "       [-0.03202255, -0.05804413],\n",
       "       [-0.02209244, -0.04566878],\n",
       "       [ 0.04871273,  0.05122549],\n",
       "       [ 0.14749413,  0.16555758],\n",
       "       [ 0.34710418,  0.41533857],\n",
       "       [ 0.28257235,  0.34018217],\n",
       "       [ 0.31337536,  0.38028147],\n",
       "       [ 0.29423264,  0.36458569],\n",
       "       [ 0.55086014,  0.68738737],\n",
       "       [ 0.44242928,  0.55722691],\n",
       "       [ 0.49929512,  0.62438911],\n",
       "       [ 0.55552127,  0.68908944],\n",
       "       [ 0.6590556 ,  0.79570658],\n",
       "       [ 0.66957281,  0.80903302],\n",
       "       [ 0.67493436,  0.81078434],\n",
       "       [ 0.77162126,  0.89459649],\n",
       "       [ 0.80298386,  0.92010872],\n",
       "       [ 0.79888532,  0.91353612],\n",
       "       [ 0.89078768,  0.99012984],\n",
       "       [ 0.97915379,  1.03295267],\n",
       "       [ 0.92338901,  0.99458762],\n",
       "       [ 0.83605249,  0.91793058],\n",
       "       [ 0.87066569,  0.91108302],\n",
       "       [ 0.90457975,  0.93461003],\n",
       "       [ 1.04037561,  0.98083254],\n",
       "       [ 0.99596115,  0.93724746],\n",
       "       [ 0.95344828,  0.89372601],\n",
       "       [ 0.94324903,  0.90011571],\n",
       "       [ 1.02823045,  0.96691129],\n",
       "       [ 1.02401235,  0.95995424]])"
      ]
     },
     "execution_count": 34,
     "metadata": {},
     "output_type": "execute_result"
    }
   ],
   "source": [
    "y_predicted"
   ]
  },
  {
   "cell_type": "code",
   "execution_count": 35,
   "metadata": {},
   "outputs": [
    {
     "data": {
      "text/plain": [
       "array([[0.        , 0.        ],\n",
       "       [0.        , 0.        ],\n",
       "       [0.        , 0.        ],\n",
       "       [0.        , 0.        ],\n",
       "       [0.        , 0.        ],\n",
       "       [0.        , 0.        ],\n",
       "       [0.        , 0.        ],\n",
       "       [0.17898023, 0.22171113],\n",
       "       [0.23152966, 0.28426863],\n",
       "       [0.29552549, 0.3624655 ],\n",
       "       [0.37721124, 0.48114075],\n",
       "       [0.44068678, 0.57221711],\n",
       "       [0.50936524, 0.63661454],\n",
       "       [0.57284079, 0.72033119],\n",
       "       [0.6508845 , 0.7976081 ],\n",
       "       [0.68210198, 0.83624655],\n",
       "       [0.71852237, 0.86016559],\n",
       "       [0.73621228, 0.88868445],\n",
       "       [0.76690947, 0.90800368],\n",
       "       [0.77627471, 0.91536339],\n",
       "       [0.8074922 , 0.93560258],\n",
       "       [0.8673257 , 0.97700092],\n",
       "       [0.84599376, 0.93928243],\n",
       "       [0.86628512, 0.89972401],\n",
       "       [0.92924037, 0.97792088],\n",
       "       [0.94120708, 1.        ],\n",
       "       [0.94693028, 0.96780129],\n",
       "       [0.96462019, 0.95676173],\n",
       "       [0.95993757, 0.93284269],\n",
       "       [0.98543184, 0.96964121],\n",
       "       [1.        , 0.94848206],\n",
       "       [0.99323621, 0.95032199],\n",
       "       [0.97034339, 0.92548298]])"
      ]
     },
     "execution_count": 35,
     "metadata": {},
     "output_type": "execute_result"
    }
   ],
   "source": [
    "y.values"
   ]
  },
  {
   "cell_type": "code",
   "execution_count": 36,
   "metadata": {},
   "outputs": [
    {
     "data": {
      "text/plain": [
       "0.005340620984241113"
      ]
     },
     "execution_count": 36,
     "metadata": {},
     "output_type": "execute_result"
    }
   ],
   "source": [
    "mean_squared_error(y.values, y_predicted)"
   ]
  },
  {
   "cell_type": "code",
   "execution_count": 37,
   "metadata": {},
   "outputs": [
    {
     "data": {
      "text/plain": [
       "0.9626789187506493"
      ]
     },
     "execution_count": 37,
     "metadata": {},
     "output_type": "execute_result"
    }
   ],
   "source": [
    "r2_score(y.values, y_predicted)"
   ]
  },
  {
   "cell_type": "code",
   "execution_count": 38,
   "metadata": {},
   "outputs": [
    {
     "data": {
      "text/plain": [
       "array([[-0.55,  0.26,  0.  , -0.16, -0.39,  0.01, -0.53, -0.16,  0.  ,\n",
       "        -0.18, -0.21,  0.49,  0.32, -0.24,  0.01, -0.26, -0.  ,  0.  ,\n",
       "        -0.  , -0.13,  0.22,  0.01, -0.35,  0.  , -0.09, -0.  , -0.07,\n",
       "         0.  , -0.29, -0.01, -0.  ,  0.01, -0.57,  0.13, -0.04,  0.24,\n",
       "        -0.43, -0.52,  0.09, -0.  ,  0.  , -0.55, -0.49, -0.05, -0.  ,\n",
       "         0.14, -0.41, -0.33,  0.16, -0.61,  0.4 ,  0.02, -0.08,  0.2 ,\n",
       "        -0.25,  0.  ,  0.  , -0.24, -0.01, -0.  , -0.33, -0.42,  0.26,\n",
       "         0.  , -0.42, -0.27, -0.19,  0.12, -0.46,  0.4 ,  0.19, -0.43,\n",
       "        -0.01, -0.12,  0.  ],\n",
       "       [-0.16, -0.09, -0.  , -0.27, -0.86, -0.01, -0.21, -0.48, -0.  ,\n",
       "        -0.41, -0.21,  0.35,  0.3 ,  0.17,  0.  , -0.35,  0.  ,  0.  ,\n",
       "         0.  ,  0.18,  0.16,  0.  , -0.  , -0.01, -0.35, -0.01,  0.31,\n",
       "        -0.  , -0.32, -0.  , -0.  , -0.  , -0.14, -0.31, -0.53, -0.25,\n",
       "        -0.49, -0.06, -0.04, -0.  , -0.01, -0.33, -1.46, -0.08, -0.  ,\n",
       "         0.19, -0.1 , -0.45, -0.03, -0.22,  0.13,  0.11, -0.13, -0.24,\n",
       "        -0.3 , -0.  ,  0.  , -2.14,  0.  ,  0.  , -0.31, -0.29,  0.2 ,\n",
       "         0.  , -0.05, -0.04,  0.07,  0.02, -0.41, -0.07, -0.41, -0.16,\n",
       "        -0.  , -0.55, -0.  ]])"
      ]
     },
     "execution_count": 38,
     "metadata": {},
     "output_type": "execute_result"
    }
   ],
   "source": [
    "mlp.coefs_[0].round(2)"
   ]
  },
  {
   "cell_type": "code",
   "execution_count": 42,
   "metadata": {},
   "outputs": [
    {
     "name": "stdout",
     "output_type": "stream",
     "text": [
      "75\n"
     ]
    }
   ],
   "source": [
    "print(len(mlp.coefs_[0][1]))"
   ]
  },
  {
   "cell_type": "code",
   "execution_count": 39,
   "metadata": {},
   "outputs": [
    {
     "data": {
      "text/plain": [
       "[array([-0.34807287,  0.07209708, -0.19825183, -0.3492062 ,  0.26917149,\n",
       "        -0.1440081 , -0.0348794 , -0.32757356, -0.14647447, -0.04303863,\n",
       "        -0.32960869,  0.15420971,  0.09536544, -0.45808058, -0.22873734,\n",
       "        -0.12571818, -0.10005679, -0.17501375, -0.25638089, -0.25291298,\n",
       "         0.07601236, -0.26988444, -0.29275101, -0.15269482, -0.10872383,\n",
       "        -0.18179814, -0.07120347, -0.06323458, -0.12159667, -0.20236862,\n",
       "        -0.08873115, -0.21579407, -0.10134007,  0.1360771 , -0.434648  ,\n",
       "        -0.07260023, -0.13292528, -0.26869212, -0.18669255, -0.14412142,\n",
       "        -0.22716687, -0.3873794 ,  0.36643258, -0.12961531, -0.08986814,\n",
       "        -0.1490529 , -0.08988312, -0.14051884,  0.15220766, -0.33003645,\n",
       "         0.08547389, -0.37202145, -0.50934092,  0.16347067, -0.20728203,\n",
       "        -0.27401064, -0.22249466,  0.24160835, -0.27631943, -0.18936765,\n",
       "        -0.29860145, -0.05992743, -0.05214584, -0.15393783, -0.07734605,\n",
       "        -0.4461963 , -0.45719702, -0.03583762, -0.16223401,  0.16139983,\n",
       "        -0.13234164, -0.19382516, -0.22684753, -0.3733633 , -0.13108529]),\n",
       " array([0.04962587, 0.29900824])]"
      ]
     },
     "execution_count": 39,
     "metadata": {},
     "output_type": "execute_result"
    }
   ],
   "source": [
    "mlp.intercepts_"
   ]
  },
  {
   "cell_type": "code",
   "execution_count": 44,
   "metadata": {},
   "outputs": [
    {
     "name": "stdout",
     "output_type": "stream",
     "text": [
      "75\n"
     ]
    }
   ],
   "source": [
    "print(len(mlp.intercepts_[0]))"
   ]
  },
  {
   "cell_type": "code",
   "execution_count": 45,
   "metadata": {},
   "outputs": [
    {
     "data": {
      "text/plain": [
       "array([[ 0.12,  0.33],\n",
       "       [ 0.25,  0.23],\n",
       "       [-0.  , -0.  ],\n",
       "       [-0.18, -0.13],\n",
       "       [-0.19, -0.6 ],\n",
       "       [ 0.  , -0.  ],\n",
       "       [-0.06, -0.36],\n",
       "       [ 0.11,  0.43],\n",
       "       [ 0.01, -0.  ],\n",
       "       [ 0.16, -0.14],\n",
       "       [ 0.17, -0.2 ],\n",
       "       [ 0.43,  0.37],\n",
       "       [ 0.27,  0.01],\n",
       "       [ 0.19,  0.37],\n",
       "       [-0.  ,  0.01],\n",
       "       [-0.28, -0.29],\n",
       "       [ 0.  ,  0.  ],\n",
       "       [ 0.  , -0.  ],\n",
       "       [ 0.01,  0.01],\n",
       "       [-0.03, -0.11],\n",
       "       [ 0.17,  0.11],\n",
       "       [ 0.  ,  0.  ],\n",
       "       [ 0.15, -0.1 ],\n",
       "       [-0.01, -0.01],\n",
       "       [-0.08, -0.22],\n",
       "       [-0.  , -0.  ],\n",
       "       [-0.14, -0.21],\n",
       "       [-0.  , -0.  ],\n",
       "       [ 0.09, -0.02],\n",
       "       [ 0.  ,  0.  ],\n",
       "       [-0.01,  0.  ],\n",
       "       [-0.  , -0.  ],\n",
       "       [ 0.04, -0.49],\n",
       "       [-0.02,  0.32],\n",
       "       [ 0.22,  0.09],\n",
       "       [ 0.1 ,  0.16],\n",
       "       [ 0.  , -0.24],\n",
       "       [ 0.07,  0.05],\n",
       "       [ 0.06,  0.05],\n",
       "       [-0.  ,  0.  ],\n",
       "       [ 0.01,  0.  ],\n",
       "       [ 0.17,  0.28],\n",
       "       [-0.43, -0.69],\n",
       "       [ 0.04,  0.02],\n",
       "       [ 0.01, -0.01],\n",
       "       [ 0.05, -0.1 ],\n",
       "       [ 0.11,  0.01],\n",
       "       [ 0.07,  0.03],\n",
       "       [ 0.1 ,  0.08],\n",
       "       [ 0.06, -0.21],\n",
       "       [ 0.23,  0.15],\n",
       "       [-0.07,  0.11],\n",
       "       [ 0.18,  0.22],\n",
       "       [ 0.12, -0.08],\n",
       "       [ 0.09,  0.03],\n",
       "       [-0.01, -0.01],\n",
       "       [ 0.  , -0.  ],\n",
       "       [-0.43, -0.67],\n",
       "       [-0.  ,  0.01],\n",
       "       [-0.  , -0.  ],\n",
       "       [-0.24, -0.37],\n",
       "       [-0.02, -0.49],\n",
       "       [ 0.15,  0.09],\n",
       "       [-0.01, -0.  ],\n",
       "       [ 0.11, -0.02],\n",
       "       [ 0.38,  0.04],\n",
       "       [-0.34, -0.1 ],\n",
       "       [ 0.04,  0.03],\n",
       "       [-0.38, -0.58],\n",
       "       [ 0.17,  0.32],\n",
       "       [ 0.02,  0.17],\n",
       "       [-0.13, -0.59],\n",
       "       [-0.  ,  0.  ],\n",
       "       [ 0.03,  0.07],\n",
       "       [ 0.  , -0.  ]])"
      ]
     },
     "execution_count": 45,
     "metadata": {},
     "output_type": "execute_result"
    }
   ],
   "source": [
    "mlp.coefs_[1].round(2)"
   ]
  },
  {
   "cell_type": "code",
   "execution_count": 46,
   "metadata": {},
   "outputs": [
    {
     "data": {
      "text/plain": [
       "<matplotlib.legend.Legend at 0x191263e49d0>"
      ]
     },
     "execution_count": 46,
     "metadata": {},
     "output_type": "execute_result"
    },
    {
     "data": {
      "image/png": "[encoded data removed]",
      "text/plain": [
       "<Figure size 432x288 with 1 Axes>"
      ]
     },
     "metadata": {},
     "output_type": "display_data"
    }
   ],
   "source": [
    "ax = y.plot(linestyle='-')\n",
    "pd.DataFrame(y_predicted, columns=y.columns, index=y.index).plot(ax=ax, linestyle='--')\n",
    "plt.legend()"
   ]
  },
  {
   "cell_type": "code",
   "execution_count": null,
   "metadata": {},
   "outputs": [],
   "source": []
  }
 ],
 "metadata": {
  "kernelspec": {
   "display_name": "Python 3 (ipykernel)",
   "language": "python",
   "name": "python3"
  },
  "language_info": {
   "codemirror_mode": {
    "name": "ipython",
    "version": 3
   },
   "file_extension": ".py",
   "mimetype": "text/x-python",
   "name": "python",
   "nbconvert_exporter": "python",
   "pygments_lexer": "ipython3",
   "version": "3.9.12"
  }
 },
 "nbformat": 4,
 "nbformat_minor": 4
}
